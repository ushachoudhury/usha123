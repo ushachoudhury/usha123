{
 "cells": [
  {
   "cell_type": "markdown",
   "id": "4d1db5f0",
   "metadata": {},
   "source": [
    "#### WAP to accept five integers from user, store them in a list. Display these inetgers and their sum"
   ]
  },
  {
   "cell_type": "code",
   "execution_count": 8,
   "id": "a400cb27",
   "metadata": {},
   "outputs": [
    {
     "name": "stdout",
     "output_type": "stream",
     "text": [
      "Enter five numbers.4\n",
      "Enter five numbers.6\n",
      "Enter five numbers.5\n",
      "Enter five numbers.10\n",
      "Enter five numbers.5\n",
      "Numbers are [4, 6, 5, 10, 5], and Sum is 30\n"
     ]
    }
   ],
   "source": [
    "\n",
    " mylist=[]\n",
    "sum=0\n",
    "for i in range(0,5):\n",
    "    num = int(input(\"Enter five numbers.\"))\n",
    "    mylist.append(num)\n",
    "    sum = sum+num\n",
    "print(\"Numbers are {}, and Sum is {}\".format(mylist, sum) )   "
   ]
  },
  {
   "cell_type": "markdown",
   "id": "2ff85f63",
   "metadata": {},
   "source": [
    "#### WAP to accept 5 unique integers from user. If the integer being entered is already present in the list, code should display \"item already present\" and ask the user to reenter the interger\n"
   ]
  },
  {
   "cell_type": "code",
   "execution_count": 7,
   "id": "dd7226b2",
   "metadata": {},
   "outputs": [
    {
     "name": "stdout",
     "output_type": "stream",
     "text": [
      "Enter number:2\n",
      "Enter number:6\n",
      "Enter number:2\n",
      "already present, reenter.\n",
      "Enter number:8\n",
      "Enter number:6\n",
      "already present, reenter.\n",
      "Enter number:1\n",
      "Enter number:7\n",
      "\n",
      "Final list: [2, 6, 8, 1, 7]\n"
     ]
    }
   ],
   "source": [
    "lst =[]\n",
    "\n",
    "while len(lst)<5:\n",
    "    \n",
    "    num = int(input(\"Enter number:\"))\n",
    "       \n",
    "    if num not in lst:\n",
    "        lst.append(num)\n",
    "        \n",
    "    else:\n",
    "        print(\"already present, reenter.\")\n",
    "\n",
    "print('\\r')\n",
    "print(\"Final list:\",lst)\n",
    "        \n"
   ]
  },
  {
   "cell_type": "markdown",
   "id": "456f5eb5",
   "metadata": {},
   "source": [
    "#### WAP to accept 2 lists from the user of 5 nos. Assume each list will ahve unique numbers. Find out how many items in these lists are common. Rewrite the code so that it displys the common items in both the lists"
   ]
  },
  {
   "cell_type": "code",
   "execution_count": 6,
   "id": "9e7474d4",
   "metadata": {},
   "outputs": [
    {
     "name": "stdout",
     "output_type": "stream",
     "text": [
      "enter 5 nos.8 7 6 5 4\n",
      "enter nos.4 9 1 8 6\n",
      "List1: [8, 7, 6, 5, 4] and List2: [4, 9, 1, 8, 6]\n",
      "\n",
      "No. of common items: 3 and Common items are: [8, 6, 4]\n"
     ]
    }
   ],
   "source": [
    "l1 = []  \n",
    "l2 = []\n",
    "\n",
    "l3 =[]\n",
    "\n",
    "c =0\n",
    "\n",
    "for items in input(\"enter 5 nos.\").split():\n",
    "    l1.append(int(items))\n",
    "\n",
    "for items in input(\"enter nos.\").split():\n",
    "    l2.append(int(items))\n",
    "    \n",
    "print(\"List1: {} and List2: {}\".format(l1,l2) )  \n",
    "print('\\r')\n",
    "    \n",
    "for i in l1:\n",
    "    if l2.count(i):     \n",
    "        c =c+1\n",
    "        l3.append(i)\n",
    "print(\"No. of common items: {} and Common items are: {}\".format( c, l3)  )\n",
    "   "
   ]
  },
  {
   "cell_type": "code",
   "execution_count": null,
   "id": "95b0e7f7",
   "metadata": {},
   "outputs": [],
   "source": []
  },
  {
   "cell_type": "code",
   "execution_count": null,
   "id": "dd4232a7",
   "metadata": {},
   "outputs": [],
   "source": []
  }
 ],
 "metadata": {
  "kernelspec": {
   "display_name": "Python 3 (ipykernel)",
   "language": "python",
   "name": "python3"
  },
  "language_info": {
   "codemirror_mode": {
    "name": "ipython",
    "version": 3
   },
   "file_extension": ".py",
   "mimetype": "text/x-python",
   "name": "python",
   "nbconvert_exporter": "python",
   "pygments_lexer": "ipython3",
   "version": "3.9.12"
  }
 },
 "nbformat": 4,
 "nbformat_minor": 5
}
